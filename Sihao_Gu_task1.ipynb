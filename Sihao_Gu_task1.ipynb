{
 "cells": [
  {
   "cell_type": "code",
   "execution_count": 1,
   "metadata": {},
   "outputs": [],
   "source": [
    "import gzip\n",
    "import random"
   ]
  },
  {
   "cell_type": "code",
   "execution_count": 2,
   "metadata": {},
   "outputs": [],
   "source": [
    "from collections import defaultdict\n",
    "\n",
    "def readGz(f):\n",
    "  for l in gzip.open(f):\n",
    "    yield eval(l)"
   ]
  },
  {
   "cell_type": "code",
   "execution_count": 3,
   "metadata": {},
   "outputs": [],
   "source": [
    "data=list(readGz(\"assignment1/train.json.gz\"))\n",
    "train_data = data[:100000]\n",
    "valid_data = data[100000:200000]"
   ]
  },
  {
   "cell_type": "code",
   "execution_count": 4,
   "metadata": {},
   "outputs": [],
   "source": [
    "user_item = defaultdict(list)\n",
    "users = set()\n",
    "items =set()\n",
    "for l in data:\n",
    "    user,item = l['reviewerID'],l['itemID']\n",
    "    users.add(user)\n",
    "    items.add(item)\n",
    "    user_item[user].append(item)"
   ]
  },
  {
   "cell_type": "code",
   "execution_count": 5,
   "metadata": {},
   "outputs": [],
   "source": [
    "negative_pair = []\n",
    "users = list(users)\n",
    "items = list(items)\n",
    "count = 0\n",
    "while count < 100000:\n",
    "    userrandom = random.choice(users)\n",
    "    itemrandom = random.choice(items)\n",
    "    pair = ((userrandom,itemrandom))\n",
    "    if itemrandom in user_item[userrandom]:\n",
    "            continue\n",
    "    else:\n",
    "        negative_pair.append(pair)\n",
    "    count+=1"
   ]
  },
  {
   "cell_type": "code",
   "execution_count": 6,
   "metadata": {},
   "outputs": [],
   "source": [
    "user_valid = [x['reviewerID'] for x in valid_data]\n",
    "item_valid = [x['itemID'] for x in valid_data]"
   ]
  },
  {
   "cell_type": "code",
   "execution_count": 7,
   "metadata": {},
   "outputs": [],
   "source": [
    "positive_pair = list(zip(user_valid,item_valid))"
   ]
  },
  {
   "cell_type": "code",
   "execution_count": 8,
   "metadata": {},
   "outputs": [],
   "source": [
    "whole_pair = positive_pair + negative_pair"
   ]
  },
  {
   "cell_type": "code",
   "execution_count": 9,
   "metadata": {},
   "outputs": [],
   "source": [
    "businessCount = defaultdict(int)\n",
    "totalPurchases = 0\n",
    "\n",
    "for l in data:\n",
    "  user,business = l['reviewerID'],l['itemID']\n",
    "  businessCount[business] += 1\n",
    "  totalPurchases += 1\n",
    "\n",
    "mostPopular = [(businessCount[x], x) for x in businessCount]\n",
    "mostPopular.sort()\n",
    "mostPopular.reverse()\n",
    "\n",
    "return1 = set()\n",
    "count = 0\n",
    "for ic, i in mostPopular:\n",
    "  count += ic\n",
    "  return1.add(i)\n",
    "  if count > totalPurchases*0.401: break"
   ]
  },
  {
   "cell_type": "code",
   "execution_count": 10,
   "metadata": {},
   "outputs": [],
   "source": [
    "user_category = defaultdict(list)\n",
    "business_category = defaultdict(list)\n",
    "users = set()\n",
    "businesses = set()\n",
    "for l in data:\n",
    "    user,business,category= l['reviewerID'],l['itemID'],l['categories']\n",
    "    users.add(user)\n",
    "    businesses.add(business)\n",
    "    user_category[user].append(category)\n",
    "    business_category[business].append(category)"
   ]
  },
  {
   "cell_type": "code",
   "execution_count": 11,
   "metadata": {},
   "outputs": [],
   "source": [
    "for i in users:\n",
    "    y = []\n",
    "    for j in user_category[i]:\n",
    "        for h in j:\n",
    "            y.append(tuple(h))\n",
    "    user_category[i] = set(y)"
   ]
  },
  {
   "cell_type": "code",
   "execution_count": 12,
   "metadata": {},
   "outputs": [],
   "source": [
    "for i in businesses:\n",
    "    y = []\n",
    "    for j in business_category[i]:\n",
    "        for h in j:\n",
    "            y.append(tuple(h))\n",
    "    business_category[i] = set(y)"
   ]
  },
  {
   "cell_type": "code",
   "execution_count": 13,
   "metadata": {},
   "outputs": [],
   "source": [
    "def find1(x,y):\n",
    "    sim = []\n",
    "    for a in user_item[x]:\n",
    "        count = 0\n",
    "        thing = []\n",
    "        for i in business_category[a]:\n",
    "            thing.append(i)\n",
    "            for j in business_category[y]:\n",
    "                thing.append(j)\n",
    "                if i == j:\n",
    "                    count+=1\n",
    "        if count >0:\n",
    "            sim.append(count/len(set(thing)))\n",
    "        else:\n",
    "            sim.append(0)\n",
    "        sim.sort(reverse = True)\n",
    "    if len(sim)>1:\n",
    "        if sim[0] + sim[1] >= 0.44:\n",
    "            return True\n",
    "        else:\n",
    "            return False\n",
    "    elif len(sim) == 1:\n",
    "        if sim[0] >= 0.0925:\n",
    "            return True\n",
    "        else:\n",
    "            return False\n",
    "    else:\n",
    "        return False"
   ]
  },
  {
   "cell_type": "code",
   "execution_count": 13,
   "metadata": {},
   "outputs": [],
   "source": [
    "def find(x,y):\n",
    "    count = 0\n",
    "    thing = []\n",
    "    for i in user_category[x]:\n",
    "        thing.append(i)\n",
    "        for j in business_category[y]:\n",
    "            thing.append(j)\n",
    "            if i == j:\n",
    "                count += 1\n",
    "    if count > 0:\n",
    "        if count/len(set(thing))>=0.0925:\n",
    "            return True\n",
    "        else:\n",
    "            return False\n",
    "    else:\n",
    "        return False"
   ]
  },
  {
   "cell_type": "code",
   "execution_count": 14,
   "metadata": {},
   "outputs": [],
   "source": [
    "predictions = open(\"assignment1/predictions_Purchase.csv\", 'w')\n",
    "for l in open(\"assignment1/pairs_Purchase.txt\"):\n",
    "  if l.startswith(\"reviewerID\"):\n",
    "    #header\n",
    "    predictions.write(l)\n",
    "    continue\n",
    "  u,i = l.strip().split('-')\n",
    "  h = i in return1\n",
    "  if find1(u,i) | h:\n",
    "    predictions.write(u + '-' + i + \",1\\n\")\n",
    "  else:\n",
    "    predictions.write(u + '-' + i + \",0\\n\")\n",
    "  \n",
    "\n",
    "predictions.close()"
   ]
  }
 ],
 "metadata": {
  "kernelspec": {
   "display_name": "Python 3",
   "language": "python",
   "name": "python3"
  },
  "language_info": {
   "codemirror_mode": {
    "name": "ipython",
    "version": 3
   },
   "file_extension": ".py",
   "mimetype": "text/x-python",
   "name": "python",
   "nbconvert_exporter": "python",
   "pygments_lexer": "ipython3",
   "version": "3.6.6"
  }
 },
 "nbformat": 4,
 "nbformat_minor": 2
}
